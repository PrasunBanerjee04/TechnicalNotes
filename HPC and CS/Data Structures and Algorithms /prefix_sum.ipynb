{
 "cells": [
  {
   "cell_type": "markdown",
   "id": "5054b8fa",
   "metadata": {},
   "source": [
    "## Prefix Sum Technique: \n",
    "\n",
    "This is a useful way to compute a subarray of an array. We first compute the prefix array such that prefix[i] is the cumulative sum of the elements of the array up to and NOT including index i. To compute the subarray-sum from index i to j, we can do prefix[j] - prefix[i]\n",
    "\n",
    "for example, consider the array [1 3 4 6 2 5 8]. We can write the prefix sums starting with no elements to be [0 1 4 8 14 16 21 29]. If we wanted the sum of the lements in between indices 1 to 3? This should be 13. We should do prefix[j + 1] - prefix[i]"
   ]
  },
  {
   "cell_type": "code",
   "execution_count": 1,
   "id": "9ea52bbf",
   "metadata": {},
   "outputs": [],
   "source": [
    "def compute_prefix_sum(arr):\n",
    "    n = len(arr)\n",
    "    pref = [0] * (n + 1)\n",
    "    for i in range(1, n + 1):\n",
    "        pref[i] = pref[i - 1] + arr[i - 1]\n",
    "    \n",
    "    return pref"
   ]
  },
  {
   "cell_type": "code",
   "execution_count": 2,
   "id": "15dd0958",
   "metadata": {},
   "outputs": [
    {
     "data": {
      "text/plain": [
       "[0, 1, 4, 8, 14, 16, 21, 29]"
      ]
     },
     "execution_count": 2,
     "metadata": {},
     "output_type": "execute_result"
    }
   ],
   "source": [
    "arr = [1, 3, 4, 6, 2, 5, 8]\n",
    "compute_prefix_sum(arr)"
   ]
  },
  {
   "cell_type": "code",
   "execution_count": 3,
   "id": "e02d9ecb",
   "metadata": {},
   "outputs": [
    {
     "data": {
      "text/plain": [
       "13"
      ]
     },
     "execution_count": 3,
     "metadata": {},
     "output_type": "execute_result"
    }
   ],
   "source": [
    "prefix = compute_prefix_sum(arr)\n",
    "\n",
    "i = 1 \n",
    "j = 3\n",
    "subarray_sum = prefix[j + 1] - prefix[i]\n",
    "subarray_sum"
   ]
  },
  {
   "cell_type": "markdown",
   "id": "6df84f66",
   "metadata": {},
   "source": [
    "Constructing a prefix-sum array is useful for problems that require us to work with subarray-sums as we can efficiently compute these sums. Below are descriptions and implementations of such problems. "
   ]
  },
  {
   "cell_type": "markdown",
   "id": "32cb68b8",
   "metadata": {},
   "source": [
    "## Count Subarray Sum Equals k \n",
    "\n",
    "In this problem, given an array, we want to compute the number of subarrays of the array such that the elements of the subarray sum to the value k. The obvious brute force solution is to iterate and check every subarray, compute the sum, and then return the number of subarrays where the sum was k. The runtime of this approach is $O(n^2)$. The optimal solution involves prefix sums and hashmaps. \n",
    "\n",
    "### Optimal Solution: \n",
    "\n",
    "Suppose our array is [1 3 4 6] and k = 10. The answer to the problem with these parameters will be 1 (for subarray [4, 6]). \n",
    "\n",
    "-  The prefix sum array is [1 4 8 10]. We will use this in our solution. \n",
    "\n",
    "For an index $i$, let $p_i$ be the prefix sum ending at $i$. We want a subarray of sum $k$. So the sum of the remaining portion of the array will be $p_i - k$. So whenever there is a subarray of sum $k$, there will be a prefix-sum of size $p_i - k$ in the range 0 to $i$.  \n",
    "\n",
    "For example, consider the array [1 2 3 -3 1 1 1] and $k = 3$. The prefix sums are [1 3 6 3 4 5 6]. We see that prefix sum of the prefix sum at 6 is 6. We see that there are two prefix sums that add up to 3 from 0 to $i$. Thus, there are two subarrays that sum to $k = 3$ in the array, which we can manually verify is correct. Similarly, how many subarrays sum to 3 that end at index $i = 5$? None, as there are no prefix sums of two in the prefix array. "
   ]
  },
  {
   "cell_type": "markdown",
   "id": "3627daa3",
   "metadata": {},
   "source": [
    "#### Full Trace \n",
    "\n",
    "arr = [1, 2, 3, -3, 1, 1, 1, 4, 2, -3] and k = 3\n",
    "\n",
    "Initialize some variables. prefix_sum = 0, count = 0, and the map we use to keep track of what prefix sums we've seen and how many times we've seen it. \n",
    "\n",
    "1. pre = 0, count = 0, map = {0:1}. The prefix sum of 0 has been encountered once, so we put it in the map with value 1. \n",
    "2. pre = 1, count = 0, map = {0:1, 1:1}. Our prefix sum at $i$ is 1. In order for there to be a subarray that adds to three, we would need to have encountered -2 before, but this is not in our hashmap so we keep moving. \n",
    "3. pre = 3, count = 1, map = {0:1, 1:1, 3:1}. Our prefix sum at $i$ is 3. In order for there to be a subarray that adds to three, we would need to have encountered 0 before, which we have, so we increment count. \n",
    "4. pre = 6, count = 2, map = {0:1, 1:1, 3:1, 6:1}. Our prefix sum at $i$ is 6. In order for there to be a subarray that adds to three, we would need to have encountered a three before, which we have, so we increment count. \n",
    "\n",
    "$\\hspace{100px} \\vdots$ \n",
    "\n",
    "continue for all $i$. The runtime of this algorithm is $O(n)$. "
   ]
  },
  {
   "cell_type": "code",
   "execution_count": 4,
   "id": "55797934",
   "metadata": {},
   "outputs": [],
   "source": [
    "# implementation \n",
    "\n",
    "def sumSubarray(arr, k):\n",
    "    count, pre = 0, 0\n",
    "    d = {0:1}\n",
    "\n",
    "    for i in range(len(arr)):\n",
    "        pre += arr[i]\n",
    "        diff = pre - k \n",
    "        \n",
    "        if diff in d:\n",
    "            count += d[diff]\n",
    "        \n",
    "        if pre in d:\n",
    "            d[pre] += 1\n",
    "        else:\n",
    "            d[pre] = 1\n",
    "    \n",
    "    return count"
   ]
  },
  {
   "cell_type": "code",
   "execution_count": 5,
   "id": "0cde2a6c",
   "metadata": {},
   "outputs": [
    {
     "data": {
      "text/plain": [
       "8"
      ]
     },
     "execution_count": 5,
     "metadata": {},
     "output_type": "execute_result"
    }
   ],
   "source": [
    "arr = [1, 2, 3, -3, 1, 1, 1, 4, 2, -3]\n",
    "sumSubarray(arr, 3)"
   ]
  },
  {
   "cell_type": "markdown",
   "id": "a00718be",
   "metadata": {},
   "source": [
    "## Count Vowels in Substring "
   ]
  },
  {
   "cell_type": "code",
   "execution_count": 6,
   "id": "5932936a",
   "metadata": {},
   "outputs": [],
   "source": [
    "def countVowels(word, queries):\n",
    "    res = []\n",
    "    vowels = ('a', 'e', 'i', 'o', 'u')\n",
    "    prefix = [0] * len(word) \n",
    "    for i in range(1, len(word)):\n",
    "        prefix[i] = prefix[i - 1] + 1 if word[i] in vowels else prefix[i - 1]\n",
    "    \n",
    "    for q in queries:\n",
    "        res.append(prefix[q[1]] - prefix[q[0]] + (1 if word[q[0]] in vowels else 0))\n",
    "    \n",
    "    print(prefix)\n",
    "    return res\n"
   ]
  },
  {
   "cell_type": "code",
   "execution_count": 7,
   "id": "3a6fe595",
   "metadata": {},
   "outputs": [
    {
     "name": "stdout",
     "output_type": "stream",
     "text": [
      "[0, 0, 1, 1, 2, 2, 2, 3, 3]\n"
     ]
    },
    {
     "data": {
      "text/plain": [
       "[1, 2, 1]"
      ]
     },
     "execution_count": 7,
     "metadata": {},
     "output_type": "execute_result"
    }
   ],
   "source": [
    "word = \"prefixsum\"\n",
    "queries = [[0,2], [1,4], [3,5]]\n",
    "countVowels(word, queries)"
   ]
  },
  {
   "cell_type": "markdown",
   "id": "55097f8e",
   "metadata": {},
   "source": [
    "## Count Subarray Sum is Odd\n",
    "\n",
    "Full Trace\n",
    "\n",
    "Arr = [1, 3, 5], answer = 4 ([1] [3] [5] [1, 3, 5]). \n",
    "\n",
    "odd_set = (1, 3, 5, 7, 9)\n",
    "\n"
   ]
  },
  {
   "cell_type": "code",
   "execution_count": 1,
   "id": "48c3e919",
   "metadata": {},
   "outputs": [],
   "source": [
    "def sumSubarrayOdd(arr):\n",
    "    count, pre = 0, 0\n",
    "    d = {0:1}\n",
    "    odd_set = set([i for i in range(1, sum(arr) + 1, 2)])\n",
    "\n",
    "    for i in range(len(arr)):\n",
    "        pre += arr[i] \n",
    "        for number in odd_set:\n",
    "            diff = pre - number \n",
    "            if diff in d:\n",
    "                count += d[diff]\n",
    "            \n",
    "        if pre in d:\n",
    "            d[pre] += 1\n",
    "        else:\n",
    "            d[pre] = 1\n",
    "    \n",
    "    return count"
   ]
  },
  {
   "cell_type": "code",
   "execution_count": 2,
   "id": "01fdc8f2",
   "metadata": {},
   "outputs": [
    {
     "data": {
      "text/plain": [
       "4"
      ]
     },
     "execution_count": 2,
     "metadata": {},
     "output_type": "execute_result"
    }
   ],
   "source": [
    "arr = [1, 3, 5]\n",
    "sumSubarrayOdd(arr)"
   ]
  },
  {
   "cell_type": "markdown",
   "id": "98a5fbf9",
   "metadata": {},
   "source": [
    "## Kadane's Algorithm \n",
    "\n",
    "Finding the maximum subarray-sum of an array. "
   ]
  },
  {
   "cell_type": "code",
   "execution_count": 3,
   "id": "618d69a3",
   "metadata": {},
   "outputs": [],
   "source": [
    "def kadane(arr):\n",
    "    currSum = arr[0]\n",
    "    maxSum = arr[0] \n",
    "\n",
    "    for i in range(len(arr) - 1):\n",
    "        currSum = max(currSum + arr[i], arr[i])\n",
    "        maxSum = max(maxSum, currSum)\n",
    "    \n",
    "    return maxSum"
   ]
  }
 ],
 "metadata": {
  "kernelspec": {
   "display_name": "base",
   "language": "python",
   "name": "python3"
  },
  "language_info": {
   "codemirror_mode": {
    "name": "ipython",
    "version": 3
   },
   "file_extension": ".py",
   "mimetype": "text/x-python",
   "name": "python",
   "nbconvert_exporter": "python",
   "pygments_lexer": "ipython3",
   "version": "3.12.7"
  }
 },
 "nbformat": 4,
 "nbformat_minor": 5
}
