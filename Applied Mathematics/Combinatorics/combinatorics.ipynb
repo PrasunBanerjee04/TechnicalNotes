{
 "cells": [
  {
   "cell_type": "markdown",
   "id": "c9602361",
   "metadata": {},
   "source": [
    "## Combinatorics basics "
   ]
  }
 ],
 "metadata": {
  "language_info": {
   "name": "python"
  }
 },
 "nbformat": 4,
 "nbformat_minor": 5
}
