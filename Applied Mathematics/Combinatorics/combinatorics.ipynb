{
 "cells": [
  {
   "cell_type": "markdown",
   "id": "c9602361",
   "metadata": {},
   "source": [
    "## Combinatorics basics \n",
    "\n",
    "### Basic Enumeration and Counting \n",
    "\n",
    "Sum Rule: If event $A$ can happen in $n$ ways and event $B$ can happen in $m$ ways, then event $A \\cup B$ can happen in $m + n$ ways. \n",
    "\n",
    "\n",
    "Product Rule: If I am making $n$ choices with $a_i$ choices on each step, there are $a_1 a_2 ... a_n$ total combinations of choices I can make. \n",
    "\n",
    "\n",
    "Permutations: A permutation is a linear ordering of objects. There are $n!$ permutations of $n$ objects, and there are $\\frac{n!}{(n-r)!}$ permutations of $r$ distinct objects drawn from $n$ objects. Note that 'ABC' and \"BCA' are two different permutations of the same set of letters. \n",
    "\n",
    "Permutations with repititions: Suppose we wanted to permute AAB. There are two As, so the usual $3!$ will overcount. In general, to permute $n$ objects with $n_1$ objects of type 1, $n_2$ objects of type 2, ... $n_k$ objects of type $k$, the number of permutations will be $\\frac{n!}{n_1!, n_2!, ... n_k!}$\n",
    "\n",
    "Combinations: A combination is a "
   ]
  }
 ],
 "metadata": {
  "language_info": {
   "name": "python"
  }
 },
 "nbformat": 4,
 "nbformat_minor": 5
}
