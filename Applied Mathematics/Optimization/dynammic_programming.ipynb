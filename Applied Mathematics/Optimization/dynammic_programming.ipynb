{
 "cells": [
  {
   "cell_type": "markdown",
   "id": "3ad27e2a",
   "metadata": {},
   "source": [
    "### Dynammic Programming\n",
    "\n",
    "Dynamic programming is a form of mathematical optimization and an algorithmic paradigm that involves breaking down a complex problem into overlapping subproblems, caching the results of these subproblems, and then using the cached results to build the solution to the bigger problem. "
   ]
  },
  {
   "cell_type": "markdown",
   "id": "b0605c48",
   "metadata": {},
   "source": [
    "As an example, consider the following problem. For a sequence $a_1, a_2 ... a_n$, find the length of the longest increasing subsequence $a_{i_1}, a_{i_2} ... a_{i_n}$ such that $i_1 < i_2 < ... < i_n$. For a concrete example, the longest increasing subsequence of [3, 1, 8, 2, 5] would be {1, 2, 5}. "
   ]
  },
  {
   "cell_type": "markdown",
   "id": "e6c0a2d7",
   "metadata": {},
   "source": [
    "1. Finding an Appropriate Subproblem \n",
    "2. Figure out how the subproblems are related\n",
    "3. Write bases case(s) and a general formula\n",
    "4. Implement "
   ]
  },
  {
   "cell_type": "markdown",
   "id": "482c7cfc",
   "metadata": {},
   "source": [
    "Example: LIS problem on [3 1 8 2 5]. Let us define T[k] to be the length of the LIS ending at index k. The length of the LIS at index k will be the maximum of 1 + the length of the LIS for all j < k. We need to look at the lengths of the LIS at all indices j where array[j] < array[k], and take the maximum of these values. That will be T[k]. Then, we simply loop over all T[i] and take the maximum of it. \n",
    "\n",
    "$$ T[k] = max_{\\hspace{3px} j < k } \\hspace{5px} T[j] + 1$$\n",
    "$$ max \\hspace{5px} {T[i]}"
   ]
  },
  {
   "cell_type": "code",
   "execution_count": null,
   "id": "ba54598a",
   "metadata": {},
   "outputs": [],
   "source": [
    "# implementation \n",
    "def length_of_LIS(nums):\n",
    "\n",
    "    n = len(nums)\n",
    "    if n == 0:\n",
    "        return 0\n",
    "    \n",
    "    # initialize a DP table with T[i] = 1\n",
    "    T = [1] * n \n",
    "    \n",
    "    for i in range(1, n):\n",
    "        for j in range(i):\n",
    "            if nums[i] > nums[j]:\n",
    "                T[i] = max(1 + T[j], T[i])\n",
    "    \n",
    "    print(f\"Our DP table is {T}\")\n",
    "    return max(T)"
   ]
  },
  {
   "cell_type": "code",
   "execution_count": 13,
   "id": "e7bcd0b8",
   "metadata": {},
   "outputs": [
    {
     "name": "stdout",
     "output_type": "stream",
     "text": [
      "Our DP table is [1, 1, 2, 2, 3, 4, 1, 3, 5, 6, 7]\n",
      "Our answer is 7\n"
     ]
    }
   ],
   "source": [
    "nums = [3, 1, 8, 2, 5, 6, 1, 3, 8, 9, 10]\n",
    "LIS = length_of_LIS(nums)\n",
    "print(f\"Our answer is {LIS}\")"
   ]
  }
 ],
 "metadata": {
  "kernelspec": {
   "display_name": "base",
   "language": "python",
   "name": "python3"
  },
  "language_info": {
   "codemirror_mode": {
    "name": "ipython",
    "version": 3
   },
   "file_extension": ".py",
   "mimetype": "text/x-python",
   "name": "python",
   "nbconvert_exporter": "python",
   "pygments_lexer": "ipython3",
   "version": "3.12.7"
  }
 },
 "nbformat": 4,
 "nbformat_minor": 5
}
