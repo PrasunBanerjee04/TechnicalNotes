{
 "cells": [
  {
   "cell_type": "markdown",
   "id": "09987d56",
   "metadata": {},
   "source": [
    "# Foundations of Natural Language Processing"
   ]
  },
  {
   "cell_type": "markdown",
   "id": "21f27eef",
   "metadata": {},
   "source": [
    "Primary problems that NLP aims to solve is the set of methods for making human language accessible to computers, the analysis of a text, generation of context-appropriate text, and in the modern context, accomplishing these tasks by processing fast sums of data and statistical methods. Natural Languages have loose rules of syntax that are ambiguous and not well-defined. Computer Languages are non-natural languages that have well defined syntax and rules of constructions. "
   ]
  }
 ],
 "metadata": {
  "language_info": {
   "name": "python"
  }
 },
 "nbformat": 4,
 "nbformat_minor": 5
}
